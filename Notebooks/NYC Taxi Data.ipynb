{
 "cells": [
  {
   "cell_type": "code",
   "execution_count": 1,
   "id": "39c025c9-d458-4309-9547-a16f47c6486b",
   "metadata": {},
   "outputs": [],
   "source": [
    "from pyspark.sql import SparkSession\n",
    "from pyspark.sql.functions import col, lit, when, expr, sum as spark_sum, avg, max, min\n",
    "from pyspark.sql.types import *"
   ]
  },
  {
   "cell_type": "markdown",
   "id": "b9356a21-0d93-4f13-a2bc-95f2adb4bafe",
   "metadata": {},
   "source": [
    "## Data Cleaning\n"
   ]
  },
  {
   "cell_type": "code",
   "execution_count": 2,
   "id": "4cfee1a3-af36-4e05-91ba-0566fb8ed730",
   "metadata": {},
   "outputs": [],
   "source": [
    "spark = SparkSession.builder \\\n",
    "    .appName(\"NYC Taxi Data\") \\\n",
    "    .config(\"spark.executor.memory\", \"4g\") \\\n",
    "    .getOrCreate()"
   ]
  },
  {
   "cell_type": "code",
   "execution_count": 4,
   "id": "6e01eab8-916a-43bb-a32b-8aac3e76127c",
   "metadata": {
    "scrolled": true
   },
   "outputs": [],
   "source": [
    "df = spark.read.parquet(\"hdfs://namenode:9000/data/merged_data.parquet\")"
   ]
  },
  {
   "cell_type": "code",
   "execution_count": 4,
   "id": "48dc8d20-f822-450f-90d7-9f32f1ec105f",
   "metadata": {
    "scrolled": true
   },
   "outputs": [
    {
     "name": "stdout",
     "output_type": "stream",
     "text": [
      "root\n",
      " |-- vendorid: long (nullable = true)\n",
      " |-- tpep_pickup_datetime: timestamp_ntz (nullable = true)\n",
      " |-- tpep_dropoff_datetime: timestamp_ntz (nullable = true)\n",
      " |-- passenger_count: string (nullable = true)\n",
      " |-- trip_distance: double (nullable = true)\n",
      " |-- ratecodeid: string (nullable = true)\n",
      " |-- store_and_fwd_flag: string (nullable = true)\n",
      " |-- pulocationid: long (nullable = true)\n",
      " |-- dolocationid: long (nullable = true)\n",
      " |-- payment_type: long (nullable = true)\n",
      " |-- fare_amount: double (nullable = true)\n",
      " |-- extra: double (nullable = true)\n",
      " |-- mta_tax: double (nullable = true)\n",
      " |-- tip_amount: double (nullable = true)\n",
      " |-- tolls_amount: double (nullable = true)\n",
      " |-- improvement_surcharge: double (nullable = true)\n",
      " |-- total_amount: double (nullable = true)\n",
      " |-- congestion_surcharge: double (nullable = true)\n",
      " |-- airport_fee: double (nullable = true)\n",
      "\n"
     ]
    }
   ],
   "source": [
    "df.printSchema()"
   ]
  },
  {
   "cell_type": "markdown",
   "id": "75876a95-6e4a-4ead-a2a7-42f2b6ca1678",
   "metadata": {},
   "source": [
    "We notice that `passenger_count`, `ratecodeid` and `store_and_fwd_flag` are not numeric."
   ]
  },
  {
   "cell_type": "code",
   "execution_count": 5,
   "id": "8ae98298-f2c0-4013-a02a-5198729e280c",
   "metadata": {},
   "outputs": [
    {
     "name": "stdout",
     "output_type": "stream",
     "text": [
      "Dataset shape:\n",
      "Rows: 77966324\n",
      "Columns: 19\n"
     ]
    }
   ],
   "source": [
    "print(\"Dataset shape:\")\n",
    "print(f\"Rows: {df.count()}\")\n",
    "print(f\"Columns: {len(df.columns)}\")"
   ]
  },
  {
   "cell_type": "code",
   "execution_count": 6,
   "id": "d4bb65b8-a101-4510-8793-9647c37b96bc",
   "metadata": {
    "scrolled": true
   },
   "outputs": [
    {
     "name": "stdout",
     "output_type": "stream",
     "text": [
      "+-------+------------------+\n",
      "|summary|       fare_amount|\n",
      "+-------+------------------+\n",
      "|  count|          77966324|\n",
      "|   mean|14.863480149198923|\n",
      "| stddev|15924.270135537783|\n",
      "|    min|     -1.33391414E8|\n",
      "|    max|         401092.32|\n",
      "+-------+------------------+\n",
      "\n"
     ]
    }
   ],
   "source": [
    "df.select(\"fare_amount\").describe().show()"
   ]
  },
  {
   "cell_type": "markdown",
   "id": "bf284cbf-73ef-4385-8f8f-a8b538c95f96",
   "metadata": {},
   "source": [
    "The minimum fare is -133 million and max is 401k, with a huge standard deviation.\n"
   ]
  },
  {
   "cell_type": "code",
   "execution_count": 7,
   "id": "dd950b8c-8799-42b0-9ae2-20ff326853aa",
   "metadata": {
    "collapsed": true,
    "jupyter": {
     "outputs_hidden": true,
     "source_hidden": true
    }
   },
   "outputs": [
    {
     "name": "stdout",
     "output_type": "stream",
     "text": [
      "Total rows: 77,966,324\n",
      "Negative fares: 634,550 (0.81%)\n",
      "Zero fares: 30,127 (0.04%)\n",
      "Fares over $100: 179,373 (0.23%)\n",
      "Fares over $1000: 108 (0.00%)\n",
      "Null fares: 0 (0.00%)\n"
     ]
    }
   ],
   "source": [
    "from pyspark.sql import functions as F\n",
    "\n",
    "issue_counts = df.select(\n",
    "    F.sum(F.when(F.col(\"fare_amount\") < 0, 1).otherwise(0)).alias(\"negative_fares\"),\n",
    "    F.sum(F.when(F.col(\"fare_amount\") == 0, 1).otherwise(0)).alias(\"zero_fares\"),\n",
    "    F.sum(F.when(F.col(\"fare_amount\") > 1000, 1).otherwise(0)).alias(\"fares_over_1000\"),\n",
    "    F.sum(F.when(F.col(\"fare_amount\") > 100, 1).otherwise(0)).alias(\"fares_over_100\"),\n",
    "    F.sum(F.when(F.col(\"fare_amount\").isNull(), 1).otherwise(0)).alias(\"null_fares\")\n",
    ").collect()[0]\n",
    "\n",
    "total_rows = df.count()\n",
    "\n",
    "print(f\"Total rows: {total_rows:,}\")\n",
    "print(f\"Negative fares: {issue_counts['negative_fares']:,} ({issue_counts['negative_fares']/total_rows*100:.2f}%)\")\n",
    "print(f\"Zero fares: {issue_counts['zero_fares']:,} ({issue_counts['zero_fares']/total_rows*100:.2f}%)\")\n",
    "print(f\"Fares over $100: {issue_counts['fares_over_100']:,} ({issue_counts['fares_over_100']/total_rows*100:.2f}%)\")\n",
    "print(f\"Fares over $1000: {issue_counts['fares_over_1000']:,} ({issue_counts['fares_over_1000']/total_rows*100:.2f}%)\")\n",
    "print(f\"Null fares: {issue_counts['null_fares']:,} ({issue_counts['null_fares']/total_rows*100:.2f}%)\")"
   ]
  },
  {
   "cell_type": "code",
   "execution_count": 9,
   "id": "ab6e3c8b-c196-4ee7-9e27-6da3bd177784",
   "metadata": {
    "collapsed": true,
    "jupyter": {
     "outputs_hidden": true,
     "source_hidden": true
    },
    "scrolled": true
   },
   "outputs": [
    {
     "name": "stdout",
     "output_type": "stream",
     "text": [
      "5 most negative fares:\n",
      "+--------------+-------------+------------+------------+\n",
      "|   fare_amount|trip_distance|total_amount|payment_type|\n",
      "+--------------+-------------+------------+------------+\n",
      "| -1.33391414E8|          0.0|      -47.17|           0|\n",
      "|-4.446376892E7|          0.0|       21.08|           0|\n",
      "|       -2564.0|        68.07|     -2567.8|           3|\n",
      "|       -1633.3|        29.03|     -1635.8|           2|\n",
      "|       -1311.5|        57.53|     -1314.8|           2|\n",
      "+--------------+-------------+------------+------------+\n",
      "only showing top 5 rows\n",
      "\n"
     ]
    }
   ],
   "source": [
    "print(\"5 most negative fares:\")\n",
    "df.select(\"fare_amount\", \"trip_distance\", \"total_amount\", \"payment_type\") \\\n",
    "  .filter(F.col(\"fare_amount\") < 0) \\\n",
    "  .orderBy(\"fare_amount\") \\\n",
    "  .show(5)"
   ]
  },
  {
   "cell_type": "code",
   "execution_count": 10,
   "id": "d5649912-733d-41b2-94e1-3259eb8e5ef5",
   "metadata": {
    "collapsed": true,
    "jupyter": {
     "outputs_hidden": true,
     "source_hidden": true
    }
   },
   "outputs": [
    {
     "name": "stdout",
     "output_type": "stream",
     "text": [
      "5 highest fares:\n",
      "+-----------+-------------+------------+------------+\n",
      "|fare_amount|trip_distance|total_amount|payment_type|\n",
      "+-----------+-------------+------------+------------+\n",
      "|  401092.32|          3.3|   401095.62|           4|\n",
      "|  395844.94|          1.2|   395848.24|           3|\n",
      "|  386983.63|          1.5|   386987.63|           2|\n",
      "|  187502.96|         21.3|    187513.9|           2|\n",
      "|  187444.96|          3.5|   187448.26|           4|\n",
      "+-----------+-------------+------------+------------+\n",
      "only showing top 5 rows\n",
      "\n"
     ]
    }
   ],
   "source": [
    "print(\"5 highest fares:\")\n",
    "df.select(\"fare_amount\", \"trip_distance\", \"total_amount\", \"payment_type\") \\\n",
    "  .orderBy(F.desc(\"fare_amount\")) \\\n",
    "  .show(5)"
   ]
  },
  {
   "cell_type": "code",
   "execution_count": 11,
   "id": "29cf4bd6-dc1d-4c80-ba11-369b476c4a9f",
   "metadata": {
    "collapsed": true,
    "jupyter": {
     "outputs_hidden": true,
     "source_hidden": true
    }
   },
   "outputs": [
    {
     "name": "stdout",
     "output_type": "stream",
     "text": [
      "5 zero fare examples:\n",
      "+-----------+-------------+------------+------------+\n",
      "|fare_amount|trip_distance|total_amount|payment_type|\n",
      "+-----------+-------------+------------+------------+\n",
      "|        0.0|         12.0|        1.55|           4|\n",
      "|        0.0|          2.8|        35.3|           1|\n",
      "|        0.0|          0.0|         0.0|           1|\n",
      "|        0.0|          0.0|         0.0|           3|\n",
      "|        0.0|          6.1|       12.05|           2|\n",
      "+-----------+-------------+------------+------------+\n",
      "only showing top 5 rows\n",
      "\n"
     ]
    }
   ],
   "source": [
    "print(\"5 zero fare examples:\")\n",
    "df.select(\"fare_amount\", \"trip_distance\", \"total_amount\", \"payment_type\") \\\n",
    "  .filter(F.col(\"fare_amount\") == 0) \\\n",
    "  .show(5)"
   ]
  },
  {
   "cell_type": "markdown",
   "id": "9d514b6c-6859-4223-a7a0-9f65ebc5aecb",
   "metadata": {},
   "source": [
    "The extreme values are likely data entry errors or system glitches."
   ]
  },
  {
   "cell_type": "code",
   "execution_count": 6,
   "id": "606d452d-cb96-4856-808d-70e29b9cace2",
   "metadata": {},
   "outputs": [
    {
     "name": "stdout",
     "output_type": "stream",
     "text": [
      "Records after cleaning: 77,293,425\n",
      "Records removed: 672,899 (0.86%)\n",
      "\n",
      "New fare_amount statistics:\n",
      "+-------+------------------+\n",
      "|summary|       fare_amount|\n",
      "+-------+------------------+\n",
      "|  count|          77293425|\n",
      "|   mean|17.409338565861248|\n",
      "| stddev|16.379684819213573|\n",
      "|    min|               0.5|\n",
      "|    max|             500.0|\n",
      "+-------+------------------+\n",
      "\n",
      "✓ Extreme fare values removed\n"
     ]
    }
   ],
   "source": [
    "from pyspark.sql import functions as F\n",
    "\n",
    "min_reasonable_fare = 0.50  \n",
    "max_reasonable_fare = 500.0\n",
    "\n",
    "original_count = df.count()\n",
    "\n",
    "df_cleaned = df.filter(\n",
    "    (F.col(\"fare_amount\") >= min_reasonable_fare) & \n",
    "    (F.col(\"fare_amount\") <= max_reasonable_fare)\n",
    ")\n",
    "\n",
    "cleaned_count = df_cleaned.count()\n",
    "removed_count = original_count - cleaned_count\n",
    "\n",
    "print(f\"Records after cleaning: {cleaned_count:,}\")\n",
    "print(f\"Records removed: {removed_count:,} ({removed_count/original_count*100:.2f}%)\")\n",
    "\n",
    "print(f\"\\nNew fare_amount statistics:\")\n",
    "df_cleaned.select(\"fare_amount\").describe().show()\n",
    "\n",
    "df = df_cleaned\n",
    "print(\"✓ Extreme fare values removed\")"
   ]
  },
  {
   "cell_type": "code",
   "execution_count": 13,
   "id": "8615b27b-4118-4453-a1f7-f24655ce5e6f",
   "metadata": {
    "collapsed": true,
    "jupyter": {
     "outputs_hidden": true,
     "source_hidden": true
    }
   },
   "outputs": [
    {
     "name": "stdout",
     "output_type": "stream",
     "text": [
      "trip_distance statistics:\n",
      "+-------+------------------+\n",
      "|summary|     trip_distance|\n",
      "+-------+------------------+\n",
      "|  count|          77293425|\n",
      "|   mean| 5.041580006449956|\n",
      "| stddev|458.21388927919924|\n",
      "|    min|               0.0|\n",
      "|    max|         389678.46|\n",
      "+-------+------------------+\n",
      "\n",
      "\n",
      "trip_distance issues:\n",
      "Negative distances: 0\n",
      "Zero distances: 1,252,864 (1.62%)\n",
      "Distances over 100 miles: 2,549\n",
      "Distances over 500 miles: 2,017\n",
      "Null distances: 0\n"
     ]
    }
   ],
   "source": [
    "print(\"trip_distance statistics:\")\n",
    "df.select(\"trip_distance\").describe().show()\n",
    "\n",
    "distance_issues = df.select(\n",
    "    F.sum(F.when(F.col(\"trip_distance\") < 0, 1).otherwise(0)).alias(\"negative_distance\"),\n",
    "    F.sum(F.when(F.col(\"trip_distance\") == 0, 1).otherwise(0)).alias(\"zero_distance\"),\n",
    "    F.sum(F.when(F.col(\"trip_distance\") > 100, 1).otherwise(0)).alias(\"distance_over_100\"),\n",
    "    F.sum(F.when(F.col(\"trip_distance\") > 500, 1).otherwise(0)).alias(\"distance_over_500\"),\n",
    "    F.sum(F.when(F.col(\"trip_distance\").isNull(), 1).otherwise(0)).alias(\"null_distance\")\n",
    ").collect()[0]\n",
    "\n",
    "total_rows = df.count()\n",
    "print(f\"\\ntrip_distance issues:\")\n",
    "print(f\"Negative distances: {distance_issues['negative_distance']:,}\")\n",
    "print(f\"Zero distances: {distance_issues['zero_distance']:,} ({distance_issues['zero_distance']/total_rows*100:.2f}%)\")\n",
    "print(f\"Distances over 100 miles: {distance_issues['distance_over_100']:,}\")\n",
    "print(f\"Distances over 500 miles: {distance_issues['distance_over_500']:,}\")\n",
    "print(f\"Null distances: {distance_issues['null_distance']:,}\")"
   ]
  },
  {
   "cell_type": "markdown",
   "id": "465687a4-783e-4024-816d-2e6d390a538a",
   "metadata": {},
   "source": [
    "The trip_distance also has extreme outliers! A max of 389,678 miles is impossible for a taxi trip."
   ]
  },
  {
   "cell_type": "code",
   "execution_count": 14,
   "id": "e79702f7-58c3-48de-93c2-eb551041ff04",
   "metadata": {
    "collapsed": true,
    "jupyter": {
     "outputs_hidden": true,
     "source_hidden": true
    }
   },
   "outputs": [
    {
     "name": "stdout",
     "output_type": "stream",
     "text": [
      "Top 5 longest distances:\n",
      "+-------------+-----------+------------+--------------------+\n",
      "|trip_distance|fare_amount|total_amount|tpep_pickup_datetime|\n",
      "+-------------+-----------+------------+--------------------+\n",
      "|    389678.46|      12.11|       18.83| 2022-10-28 05:19:00|\n",
      "|    357192.65|      12.46|       20.13| 2022-05-15 18:45:00|\n",
      "|    348798.53|       20.6|        27.9| 2022-02-15 18:24:00|\n",
      "|    345729.44|      13.27|       17.27| 2023-08-15 04:02:00|\n",
      "|    344408.48|      63.12|       73.97| 2022-05-19 17:00:00|\n",
      "+-------------+-----------+------------+--------------------+\n",
      "only showing top 5 rows\n",
      "\n",
      "\n",
      "5 examples of zero distance trips:\n",
      "+-------------+-----------+------------+------------+\n",
      "|trip_distance|fare_amount|total_amount|payment_type|\n",
      "+-------------+-----------+------------+------------+\n",
      "|          0.0|        2.5|         6.3|           4|\n",
      "|          0.0|        2.5|         6.3|           2|\n",
      "|          0.0|        2.5|         6.3|           2|\n",
      "|          0.0|        2.5|         6.3|           2|\n",
      "|          0.0|       10.0|       15.36|           1|\n",
      "+-------------+-----------+------------+------------+\n",
      "only showing top 5 rows\n",
      "\n",
      "\n",
      "Sample of trips over 100 miles:\n",
      "+-------------+-----------+------------+\n",
      "|trip_distance|fare_amount|total_amount|\n",
      "+-------------+-----------+------------+\n",
      "|    389678.46|      12.11|       18.83|\n",
      "|    357192.65|      12.46|       20.13|\n",
      "|    348798.53|       20.6|        27.9|\n",
      "|    345729.44|      13.27|       17.27|\n",
      "|    344408.48|      63.12|       73.97|\n",
      "+-------------+-----------+------------+\n",
      "only showing top 5 rows\n",
      "\n"
     ]
    }
   ],
   "source": [
    "print(\"Top 5 longest distances:\")\n",
    "df.select(\"trip_distance\", \"fare_amount\", \"total_amount\", \"tpep_pickup_datetime\") \\\n",
    "  .orderBy(F.desc(\"trip_distance\")) \\\n",
    "  .show(5)\n",
    "\n",
    "print(\"\\n5 examples of zero distance trips:\")\n",
    "df.select(\"trip_distance\", \"fare_amount\", \"total_amount\", \"payment_type\") \\\n",
    "  .filter(F.col(\"trip_distance\") == 0) \\\n",
    "  .show(5)\n",
    "\n",
    "print(\"\\nSample of trips over 100 miles:\")\n",
    "df.select(\"trip_distance\", \"fare_amount\", \"total_amount\") \\\n",
    "  .filter(F.col(\"trip_distance\") > 100) \\\n",
    "  .orderBy(F.desc(\"trip_distance\")) \\\n",
    "  .show(5)"
   ]
  },
  {
   "cell_type": "markdown",
   "id": "bb688692-1c07-48b5-9b3e-72911e8ae11f",
   "metadata": {},
   "source": [
    "These extreme distances are clearly data errors - 389,678 miles with only a \\$12 fare is impossible! Zero distance trips might be legitimate (waiting time, cancellations), but the extreme distances need to be removed. Let's clean `trip_distance`:\n"
   ]
  },
  {
   "cell_type": "code",
   "execution_count": 7,
   "id": "adf484d9-38c7-41e3-a241-c23ee5f850d7",
   "metadata": {
    "scrolled": true
   },
   "outputs": [
    {
     "name": "stdout",
     "output_type": "stream",
     "text": [
      "Records before distance cleaning: 77,293,425\n",
      "Records after distance cleaning: 77,290,876\n",
      "Records removed: 2,549 (0.003%)\n",
      "\n",
      "New trip_distance statistics:\n",
      "+-------+-----------------+\n",
      "|summary|    trip_distance|\n",
      "+-------+-----------------+\n",
      "|  count|         77290876|\n",
      "|   mean|3.484159909637998|\n",
      "| stddev|4.498495606382115|\n",
      "|    min|              0.0|\n",
      "|    max|            99.92|\n",
      "+-------+-----------------+\n",
      "\n",
      "✓ Extreme trip distances removed\n"
     ]
    }
   ],
   "source": [
    "original_count = df.count()\n",
    "print(f\"Records before distance cleaning: {original_count:,}\")\n",
    "\n",
    "max_reasonable_distance = 100.0\n",
    "\n",
    "df_cleaned = df.filter(F.col(\"trip_distance\") <= max_reasonable_distance)\n",
    "\n",
    "cleaned_count = df_cleaned.count()\n",
    "removed_count = original_count - cleaned_count\n",
    "\n",
    "print(f\"Records after distance cleaning: {cleaned_count:,}\")\n",
    "print(f\"Records removed: {removed_count:,} ({removed_count/original_count*100:.3f}%)\")\n",
    "\n",
    "print(f\"\\nNew trip_distance statistics:\")\n",
    "df_cleaned.select(\"trip_distance\").describe().show()\n",
    "\n",
    "df = df_cleaned\n",
    "print(\"✓ Extreme trip distances removed\")"
   ]
  },
  {
   "cell_type": "code",
   "execution_count": 16,
   "id": "a545c6dd-67bb-4f1b-9904-fc019510e025",
   "metadata": {
    "collapsed": true,
    "jupyter": {
     "outputs_hidden": true,
     "source_hidden": true
    }
   },
   "outputs": [
    {
     "name": "stdout",
     "output_type": "stream",
     "text": [
      "+---------------+\n",
      "|passenger_count|\n",
      "+---------------+\n",
      "|7              |\n",
      "|3              |\n",
      "|8              |\n",
      "|0              |\n",
      "|5              |\n",
      "|6              |\n",
      "|9              |\n",
      "|1              |\n",
      "|4              |\n",
      "|2              |\n",
      "|NULL           |\n",
      "+---------------+\n",
      "\n",
      "+----------+\n",
      "|ratecodeid|\n",
      "+----------+\n",
      "|3         |\n",
      "|99        |\n",
      "|5         |\n",
      "|6         |\n",
      "|1         |\n",
      "|4         |\n",
      "|2         |\n",
      "|NULL      |\n",
      "+----------+\n",
      "\n",
      "+------------------+\n",
      "|store_and_fwd_flag|\n",
      "+------------------+\n",
      "|Y                 |\n",
      "|N                 |\n",
      "|NULL              |\n",
      "+------------------+\n",
      "\n"
     ]
    }
   ],
   "source": [
    "df.select(\"passenger_count\").distinct().show(truncate=False)\n",
    "df.select(\"ratecodeid\").distinct().show(truncate=False)\n",
    "df.select(\"store_and_fwd_flag\").distinct().show(truncate=False)"
   ]
  },
  {
   "cell_type": "code",
   "execution_count": 8,
   "id": "b588cd50-889d-4c65-870e-b3726e1b1a8b",
   "metadata": {},
   "outputs": [],
   "source": [
    "df = df.withColumn(\"passenger_count\", col(\"passenger_count\").cast(\"integer\"))\n",
    "df = df.filter(\n",
    "    (df.passenger_count.isNotNull()) &\n",
    "    (df.passenger_count.between(1, 6))\n",
    ")"
   ]
  },
  {
   "cell_type": "code",
   "execution_count": 9,
   "id": "2a89a670-5eff-45cd-8448-ceba96ff4169",
   "metadata": {},
   "outputs": [],
   "source": [
    "df = df.withColumn(\"RatecodeID\", col(\"RatecodeID\").cast(\"integer\"))\n",
    "\n",
    "df = df.filter(\n",
    "    df.RatecodeID.isNull() | df.RatecodeID.between(1, 6)\n",
    ")"
   ]
  },
  {
   "cell_type": "code",
   "execution_count": 20,
   "id": "888b0cad-dd8e-45cd-922e-3b3bc75bbf19",
   "metadata": {
    "collapsed": true,
    "jupyter": {
     "outputs_hidden": true,
     "source_hidden": true
    }
   },
   "outputs": [
    {
     "data": {
      "text/plain": [
       "0"
      ]
     },
     "execution_count": 20,
     "metadata": {},
     "output_type": "execute_result"
    }
   ],
   "source": [
    "df.filter(col(\"store_and_fwd_flag\").isNull()).count()"
   ]
  },
  {
   "cell_type": "code",
   "execution_count": 22,
   "id": "0175a4b1-0f45-426c-a493-26a46a505cb0",
   "metadata": {
    "collapsed": true,
    "jupyter": {
     "outputs_hidden": true,
     "source_hidden": true
    }
   },
   "outputs": [
    {
     "name": "stdout",
     "output_type": "stream",
     "text": [
      "+------------+\n",
      "|payment_type|\n",
      "+------------+\n",
      "|           5|\n",
      "|           1|\n",
      "|           3|\n",
      "|           2|\n",
      "|           4|\n",
      "+------------+\n",
      "\n"
     ]
    }
   ],
   "source": [
    "df.select(\"payment_type\").distinct().show()"
   ]
  },
  {
   "cell_type": "markdown",
   "id": "403bcc94-9d88-4336-b20d-c43f05493c3c",
   "metadata": {},
   "source": []
  },
  {
   "cell_type": "code",
   "execution_count": 23,
   "id": "71423866-3fff-447f-a988-37550df0a287",
   "metadata": {
    "collapsed": true,
    "jupyter": {
     "outputs_hidden": true,
     "source_hidden": true
    },
    "scrolled": true
   },
   "outputs": [
    {
     "name": "stdout",
     "output_type": "stream",
     "text": [
      "+--------+\n",
      "|VendorID|\n",
      "+--------+\n",
      "|       1|\n",
      "|       2|\n",
      "+--------+\n",
      "\n"
     ]
    }
   ],
   "source": [
    "df.select(\"VendorID\").distinct().show()"
   ]
  },
  {
   "cell_type": "code",
   "execution_count": 24,
   "id": "03d234cb-a16f-42ef-9a07-740bc61136f9",
   "metadata": {
    "collapsed": true,
    "jupyter": {
     "outputs_hidden": true,
     "source_hidden": true
    },
    "scrolled": true
   },
   "outputs": [
    {
     "name": "stdout",
     "output_type": "stream",
     "text": [
      "+------------+\n",
      "|payment_type|\n",
      "+------------+\n",
      "|           5|\n",
      "|           1|\n",
      "|           3|\n",
      "|           2|\n",
      "|           4|\n",
      "+------------+\n",
      "\n"
     ]
    }
   ],
   "source": [
    "df.select(\"payment_type\").distinct().show()"
   ]
  },
  {
   "cell_type": "code",
   "execution_count": 25,
   "id": "cd8629bb-d6df-4e67-a1f3-509283155b49",
   "metadata": {
    "collapsed": true,
    "jupyter": {
     "outputs_hidden": true,
     "source_hidden": true
    },
    "scrolled": true
   },
   "outputs": [
    {
     "name": "stdout",
     "output_type": "stream",
     "text": [
      "+------------------+\n",
      "|store_and_fwd_flag|\n",
      "+------------------+\n",
      "|                 Y|\n",
      "|                 N|\n",
      "+------------------+\n",
      "\n"
     ]
    }
   ],
   "source": [
    "df.select(\"store_and_fwd_flag\").distinct().show()"
   ]
  },
  {
   "cell_type": "code",
   "execution_count": 10,
   "id": "f2f5544e-ecc3-49e0-9ec0-61904b0bf6dc",
   "metadata": {},
   "outputs": [],
   "source": [
    "df = df.withColumn(\n",
    "    \"store_and_fwd_flag\",\n",
    "    when(col(\"store_and_fwd_flag\") == \"Y\", 1)\n",
    "    .when(col(\"store_and_fwd_flag\") == \"N\", 0)\n",
    "    .otherwise(None)\n",
    ")"
   ]
  },
  {
   "cell_type": "code",
   "execution_count": 26,
   "id": "1e2575f2-d80f-4cbf-87ad-ce822aeef1d5",
   "metadata": {
    "collapsed": true,
    "jupyter": {
     "outputs_hidden": true,
     "source_hidden": true
    }
   },
   "outputs": [
    {
     "name": "stdout",
     "output_type": "stream",
     "text": [
      "+-------+-------+\n",
      "|null_pu|null_do|\n",
      "+-------+-------+\n",
      "|      0|      0|\n",
      "+-------+-------+\n",
      "\n"
     ]
    }
   ],
   "source": [
    "df.select(\n",
    "  F.sum(F.when(F.col(\"PULocationID\").isNull(), 1).otherwise(0)).alias(\"null_pu\"),\n",
    "  F.sum(F.when(F.col(\"DOLocationID\").isNull(), 1).otherwise(0)).alias(\"null_do\")\n",
    ").show()\n"
   ]
  },
  {
   "cell_type": "code",
   "execution_count": 29,
   "id": "58236fae-9241-4d32-9df4-5e48447949db",
   "metadata": {
    "collapsed": true,
    "jupyter": {
     "outputs_hidden": true,
     "source_hidden": true
    }
   },
   "outputs": [
    {
     "name": "stdout",
     "output_type": "stream",
     "text": [
      "+-------+------------------+-------------------+------------------+-----------------+---------------------+--------------------+-------------------+\n",
      "|summary|             extra|            mta_tax|        tip_amount|     tolls_amount|improvement_surcharge|congestion_surcharge|        airport_fee|\n",
      "+-------+------------------+-------------------+------------------+-----------------+---------------------+--------------------+-------------------+\n",
      "|  count|          72933592|           72933592|          72933592|         72933592|             72933592|            72933592|           72933592|\n",
      "|   mean|1.3122974545117687|0.49531238856299076|3.1734939658555334|0.564894463305165|   0.6539529905657337|  2.3210445407652487|0.12225553692734617|\n",
      "| stddev| 1.590529466535159| 0.0502140356667076|3.7336321153269836|2.100107551285682|   0.3500765907040568|  0.6444855616210668| 0.4084229381395421|\n",
      "|    min|            -22.18|                0.0|               0.0|              0.0|                  0.0|                 0.0|                0.0|\n",
      "|    max|             96.38|              53.16|           1400.16|           911.87|                  1.0|                2.75|               1.75|\n",
      "+-------+------------------+-------------------+------------------+-----------------+---------------------+--------------------+-------------------+\n",
      "\n"
     ]
    }
   ],
   "source": [
    "df.select(\n",
    "    \"extra\", \"mta_tax\", \"tip_amount\", \"tolls_amount\",\n",
    "    \"improvement_surcharge\", \"congestion_surcharge\",\n",
    "    \"airport_fee\"\n",
    ").describe().show()"
   ]
  },
  {
   "cell_type": "code",
   "execution_count": 11,
   "id": "24da0d34-d6f7-4b4a-b4da-7d9b5a70cb37",
   "metadata": {},
   "outputs": [],
   "source": [
    "cols_to_clean = [\"extra\", \"mta_tax\", \"tip_amount\", \"tolls_amount\", \"improvement_surcharge\", \"congestion_surcharge\", \"airport_fee\"]\n",
    "\n",
    "for c in cols_to_clean:\n",
    "    df = df.withColumn(c, when(col(c) < 0, 0).otherwise(col(c)))"
   ]
  },
  {
   "cell_type": "code",
   "execution_count": 37,
   "id": "0e332da8-91e8-4a62-80b2-6b8b8fe39c00",
   "metadata": {
    "collapsed": true,
    "jupyter": {
     "outputs_hidden": true,
     "source_hidden": true
    }
   },
   "outputs": [
    {
     "name": "stdout",
     "output_type": "stream",
     "text": [
      "+-----------+-------------+----------------+------------------+---------------------------+--------------------------+-----------------+\n",
      "|extra_nulls|mta_tax_nulls|tip_amount_nulls|tolls_amount_nulls|improvement_surcharge_nulls|congestion_surcharge_nulls|airport_fee_nulls|\n",
      "+-----------+-------------+----------------+------------------+---------------------------+--------------------------+-----------------+\n",
      "|          0|            0|               0|                 0|                          0|                         0|                0|\n",
      "+-----------+-------------+----------------+------------------+---------------------------+--------------------------+-----------------+\n",
      "\n"
     ]
    }
   ],
   "source": [
    "null_counts = df.select([F.sum(col(c).isNull().cast(\"int\")).alias(c + \"_nulls\") for c in cols_to_clean])\n",
    "null_counts.show()"
   ]
  },
  {
   "cell_type": "code",
   "execution_count": 12,
   "id": "e1d43a8e-328f-46c9-9163-3c9e8703068d",
   "metadata": {},
   "outputs": [
    {
     "name": "stdout",
     "output_type": "stream",
     "text": [
      "Null pickup datetimes: 0\n",
      "Null dropoff datetimes: 0\n",
      "\n",
      "Date ranges:\n",
      "Pickup dates: 2001-01-01 00:03:14 to 2024-01-03 19:42:57\n",
      "Dropoff dates: 1970-01-20 10:16:32 to 2024-01-03 20:15:55\n",
      "\n",
      "Trip duration issues:\n",
      "Negative duration (dropoff before pickup): 16,070\n",
      "Zero duration: 29,090\n",
      "Over 24 hours: 535 (0.001%)\n"
     ]
    }
   ],
   "source": [
    "df= df_cleaned\n",
    "datetime_nulls = df.select(\n",
    "    F.sum(F.when(F.col(\"tpep_pickup_datetime\").isNull(), 1).otherwise(0)).alias(\"null_pickup\"),\n",
    "    F.sum(F.when(F.col(\"tpep_dropoff_datetime\").isNull(), 1).otherwise(0)).alias(\"null_dropoff\")\n",
    ").collect()[0]\n",
    "\n",
    "print(f\"Null pickup datetimes: {datetime_nulls['null_pickup']:,}\")\n",
    "print(f\"Null dropoff datetimes: {datetime_nulls['null_dropoff']:,}\")\n",
    "\n",
    "date_ranges = df.select(\n",
    "    F.min(\"tpep_pickup_datetime\").alias(\"earliest_pickup\"),\n",
    "    F.max(\"tpep_pickup_datetime\").alias(\"latest_pickup\"),\n",
    "    F.min(\"tpep_dropoff_datetime\").alias(\"earliest_dropoff\"),\n",
    "    F.max(\"tpep_dropoff_datetime\").alias(\"latest_dropoff\")\n",
    ").collect()[0]\n",
    "\n",
    "print(f\"\\nDate ranges:\")\n",
    "print(f\"Pickup dates: {date_ranges['earliest_pickup']} to {date_ranges['latest_pickup']}\")\n",
    "print(f\"Dropoff dates: {date_ranges['earliest_dropoff']} to {date_ranges['latest_dropoff']}\")\n",
    "df_with_duration = df.withColumn(\n",
    "    \"trip_duration_seconds\", \n",
    "    F.unix_timestamp(\"tpep_dropoff_datetime\") - F.unix_timestamp(\"tpep_pickup_datetime\")\n",
    ")\n",
    "\n",
    "duration_issues = df_with_duration.select(\n",
    "    F.sum(F.when(F.col(\"trip_duration_seconds\") < 0, 1).otherwise(0)).alias(\"negative_duration\"),\n",
    "    F.sum(F.when(F.col(\"trip_duration_seconds\") == 0, 1).otherwise(0)).alias(\"zero_duration\"),\n",
    "    F.sum(F.when(F.col(\"trip_duration_seconds\") > 86400, 1).otherwise(0)).alias(\"over_24_hours\")\n",
    ").collect()[0]\n",
    "\n",
    "total_rows = df.count()\n",
    "print(f\"\\nTrip duration issues:\")\n",
    "print(f\"Negative duration (dropoff before pickup): {duration_issues['negative_duration']:,}\")\n",
    "print(f\"Zero duration: {duration_issues['zero_duration']:,}\")\n",
    "print(f\"Over 24 hours: {duration_issues['over_24_hours']:,} ({duration_issues['over_24_hours']/total_rows*100:.3f}%)\")"
   ]
  },
  {
   "cell_type": "code",
   "execution_count": 13,
   "id": "eeddc660-95cf-4831-8f62-b08a7b1497cd",
   "metadata": {},
   "outputs": [],
   "source": [
    "df_cleaned = df_with_duration.filter(\n",
    "    (F.col(\"trip_duration_seconds\") > 0) & \n",
    "    (F.col(\"trip_duration_seconds\") <= 86400)  # 24 hours\n",
    ")\n"
   ]
  },
  {
   "cell_type": "code",
   "execution_count": null,
   "id": "5fcae8c8-79bd-4a2f-810f-1998489df3f6",
   "metadata": {},
   "outputs": [],
   "source": [
    "df_cleaned.write.parquet(\"hdfs://namenode:9000/data/cleaned_data.parquet\")"
   ]
  }
 ],
 "metadata": {
  "kernelspec": {
   "display_name": "Python 3 (ipykernel)",
   "language": "python",
   "name": "python3"
  },
  "language_info": {
   "codemirror_mode": {
    "name": "ipython",
    "version": 3
   },
   "file_extension": ".py",
   "mimetype": "text/x-python",
   "name": "python",
   "nbconvert_exporter": "python",
   "pygments_lexer": "ipython3",
   "version": "3.12.5"
  }
 },
 "nbformat": 4,
 "nbformat_minor": 5
}
