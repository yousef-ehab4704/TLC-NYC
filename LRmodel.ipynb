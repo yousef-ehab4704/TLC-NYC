{
 "cells": [
  {
   "cell_type": "code",
   "execution_count": 1,
   "id": "e5b36220-f84a-4e4a-9298-c60da26ded99",
   "metadata": {},
   "outputs": [],
   "source": [
    "from pyspark.sql import SparkSession"
   ]
  },
  {
   "cell_type": "code",
   "execution_count": 2,
   "id": "9798f894-6fc7-4193-be23-f7bc379da0cc",
   "metadata": {},
   "outputs": [],
   "source": [
    "spark = SparkSession.builder.getOrCreate()"
   ]
  },
  {
   "cell_type": "code",
   "execution_count": 3,
   "id": "91ece8d0-5c89-4e7a-835c-c9a60e840265",
   "metadata": {
    "scrolled": true
   },
   "outputs": [],
   "source": [
    "#hdfs://namenode:9000/data2/cleaned_data.parquet\n",
    "df = spark.read.parquet(\"../include/cleaned_data.parquet\")"
   ]
  },
  {
   "cell_type": "code",
   "execution_count": 4,
   "id": "9da89587-6d78-4226-84c5-65e01d187b12",
   "metadata": {},
   "outputs": [
    {
     "name": "stdout",
     "output_type": "stream",
     "text": [
      "root\n",
      " |-- vendorid: long (nullable = true)\n",
      " |-- tpep_pickup_datetime: timestamp_ntz (nullable = true)\n",
      " |-- tpep_dropoff_datetime: timestamp_ntz (nullable = true)\n",
      " |-- passenger_count: double (nullable = true)\n",
      " |-- trip_distance: double (nullable = true)\n",
      " |-- ratecodeid: long (nullable = true)\n",
      " |-- store_and_fwd_flag: long (nullable = true)\n",
      " |-- pulocationid: long (nullable = true)\n",
      " |-- dolocationid: long (nullable = true)\n",
      " |-- payment_type: long (nullable = true)\n",
      " |-- fare_amount: double (nullable = true)\n",
      " |-- extra: double (nullable = true)\n",
      " |-- mta_tax: double (nullable = true)\n",
      " |-- tip_amount: double (nullable = true)\n",
      " |-- tolls_amount: double (nullable = true)\n",
      " |-- improvement_surcharge: double (nullable = true)\n",
      " |-- total_amount: double (nullable = true)\n",
      " |-- congestion_surcharge: double (nullable = true)\n",
      " |-- airport_fee: double (nullable = true)\n",
      " |-- trip_duration_seconds: double (nullable = true)\n",
      "\n"
     ]
    }
   ],
   "source": [
    "df.printSchema()"
   ]
  },
  {
   "cell_type": "code",
   "execution_count": null,
   "id": "40ac51ff-3ade-4b0a-a5f1-f06d36fb5f28",
   "metadata": {},
   "outputs": [],
   "source": [
    "\n",
    "from pyspark.ml.feature import VectorAssembler, StandardScaler, MinMaxScaler\n",
    "\n",
    "inputCols = [\"trip_duration_seconds\", \"trip_distance\", \"passenger_count\"]\n",
    "outputCol = \"total_amount\"\n",
    "\n",
    "assembler = VectorAssembler(inputCols=inputCols, outputCol=\"assembledInputFeatures\")\n",
    "dfAssembled = assembler.transform(df).select(\"assembledInputFeatures\", outputCol)\n",
    "\n",
    "scaler = StandardScaler(inputCol=\"assembledInputFeatures\", outputCol=\"scaledInputFeatures\", withMean=True, withStd=True)\n",
    "scalerModel = scaler.fit(dfAssembled)\n",
    "dfScaled = scalerModel.transform(dfAssembled)\n",
    "\n",
    "minmax = MinMaxScaler(inputCol=\"scaledInputFeatures\", outputCol=\"features\")\n",
    "minmaxModel = minmax.fit(dfScaled)\n",
    "dfFinal = minmaxModel.transform(dfScaled).select(\"features\", outputCol)\n",
    "\n",
    "testSize = 0.2\n",
    "trainSize = 1 - testSize\n",
    "trainDf, testDf = dfFinal.randomSplit([trainSize, testSize], seed=42)"
   ]
  },
  {
   "cell_type": "code",
   "execution_count": null,
   "id": "778d61e3-e7da-463f-bed7-7aeaf47050ea",
   "metadata": {},
   "outputs": [],
   "source": [
    "from pyspark.ml.regression import LinearRegression, RandomForestRegressor\n",
    "from pyspark.ml.evaluation import RegressionEvaluator\n",
    "from pyspark.ml.tuning import ParamGridBuilder, CrossValidator"
   ]
  },
  {
   "cell_type": "code",
   "execution_count": null,
   "id": "d237386b-213e-45db-ae92-a07897285a6a",
   "metadata": {},
   "outputs": [],
   "source": [
    "lr = LinearRegression(featuresCol=\"features\", labelCol=outputCol)\n",
    "\n",
    "paramGrid = ParamGridBuilder() \\\n",
    "    .addGrid(lr.regParam, [0.01, 0.1, 0.5]) \\\n",
    "    .addGrid(lr.elasticNetParam, [0.0, 0.5, 1.0]) \\\n",
    "    .build()\n",
    "\n",
    "evaluator = RegressionEvaluator(labelCol=outputCol, predictionCol=\"prediction\", metricName=\"rmse\")\n",
    "\n",
    "cv = CrossValidator(estimator=lr, estimatorParamMaps=paramGrid,\n",
    "                    evaluator=evaluator, numFolds=3, parallelism=2)\n",
    "\n",
    "cvModel = cv.fit(trainDf)\n",
    "\n",
    "rf = RandomForestRegressor(featuresCol=\"features\", labelCol=outputCol, numTrees=50, maxDepth=5)\n",
    "rfModel = rf.fit(trainDf)"
   ]
  },
  {
   "cell_type": "code",
   "execution_count": null,
   "id": "d331ef88-0174-4709-926b-4a4b86eb26b4",
   "metadata": {},
   "outputs": [],
   "source": [
    "def evaluateModel(model, data, labelCol):\n",
    "    predictions = model.transform(data)\n",
    "    rmse = evaluator.evaluate(predictions)\n",
    "    r2 = RegressionEvaluator(labelCol=labelCol, predictionCol=\"prediction\", metricName=\"r2\").evaluate(predictions)\n",
    "    print(f\"RMSE: {rmse:.4f}\")\n",
    "    print(f\"R2: {r2:.4f}\")\n",
    "    return predictions"
   ]
  },
  {
   "cell_type": "code",
   "execution_count": null,
   "id": "f2eab45e-e3f9-47fe-85ad-54de3b7b13e4",
   "metadata": {},
   "outputs": [],
   "source": [
    "print(\"Cross-validation LR model's accuracy:\")\n",
    "evaluateModel(cvModel.bestModel, testDf, outputCol)\n",
    "\n",
    "print(\"\\Random Forest Regressor's accuracy:\")\n",
    "evaluateModel(rfModel, testDf, outputCol)\n",
    "\n",
    "weightsPath = \"models/mainLRModel\"\n",
    "cvModel.bestModel.write().overwrite().save(weightsPath)"
   ]
  }
 ],
 "metadata": {
  "kernelspec": {
   "display_name": "Python 3 (ipykernel)",
   "language": "python",
   "name": "python3"
  },
  "language_info": {
   "codemirror_mode": {
    "name": "ipython",
    "version": 3
   },
   "file_extension": ".py",
   "mimetype": "text/x-python",
   "name": "python",
   "nbconvert_exporter": "python",
   "pygments_lexer": "ipython3",
   "version": "3.12.2"
  }
 },
 "nbformat": 4,
 "nbformat_minor": 5
}
